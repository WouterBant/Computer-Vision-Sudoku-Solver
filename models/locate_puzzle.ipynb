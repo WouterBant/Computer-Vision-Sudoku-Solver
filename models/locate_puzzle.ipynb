{
 "cells": [
  {
   "cell_type": "code",
   "execution_count": 12,
   "metadata": {},
   "outputs": [],
   "source": [
    "from imutils.perspective import four_point_transform\n",
    "from skimage.segmentation import clear_border\n",
    "import numpy as np\n",
    "import imutils\n",
    "import cv2 as cv\n",
    "from PIL import Image"
   ]
  },
  {
   "cell_type": "code",
   "execution_count": 36,
   "metadata": {},
   "outputs": [],
   "source": [
    "def find_puzzle(image, debug=False):\n",
    "\tgray = cv.cvtColor(src=image, code=cv.COLOR_BGR2GRAY)\n",
    "\tblurred = cv.GaussianBlur(src=gray, ksize=(7,7), sigmaX=3)\n",
    "\n",
    "\tthresh = cv.adaptiveThreshold(src=blurred, maxValue=255, \n",
    "\t\t\t       adaptiveMethod=cv.ADAPTIVE_THRESH_GAUSSIAN_C, \n",
    "\t\t\t\t   thresholdType=cv.THRESH_BINARY, blockSize=11, C=2)\n",
    "\tthresh = cv.bitwise_not(src=thresh)  # Contours become white\n",
    "\t\t\n",
    "\tcontours = cv.findContours(image=thresh.copy(), mode=cv.RETR_EXTERNAL, method=cv.CHAIN_APPROX_SIMPLE)\n",
    "\tcontours = imutils.grab_contours(cnts=contours)\n",
    "\tcontours = sorted(contours, key=cv.contourArea, reverse=True)\n",
    "\n",
    "\tpuzzle_contour = None\n",
    "\tfor contour in contours:\n",
    "\t\tperimeter = cv.arcLength(curve=contour, closed=True)\n",
    "\t\testimate = cv.approxPolyDP(curve=contour, epsilon=0.02 * perimeter, closed=True)\n",
    "\n",
    "\t\tif len(estimate) == 4:\n",
    "\t\t\tpuzzle_contour = estimate\n",
    "\t\t\tbreak\n",
    "\n",
    "\tif puzzle_contour is None:\n",
    "\t\traise Exception((\"Could not find Sudoku puzzle outline. \"\n",
    "\t\t\t\"Try debugging your thresholding and contour steps.\"))\n",
    "\n",
    "\tpuzzle = four_point_transform(image=image, pts=puzzle_contour.reshape(4, 2))\n",
    "\twarped = four_point_transform(image=gray,  pts=puzzle_contour.reshape(4, 2))\n",
    "\t\n",
    "\tif debug:\n",
    "\t\tcv.imshow(\"Puzzle Input\", image)\n",
    "\t\tcv.waitKey(0)\n",
    "\n",
    "\t\tcv.imshow(\"Puzzle Gray\", gray)\n",
    "\t\tcv.waitKey(0)\n",
    "\n",
    "\t\tcv.imshow(\"Puzzle Blurred\", blurred)\n",
    "\t\tcv.waitKey(0)\n",
    "\n",
    "\t\tcv.imshow(\"Puzzle Thresh\", thresh)\n",
    "\t\tcv.waitKey(0)\n",
    "\n",
    "\t\toutput = image.copy()\n",
    "\t\tcv.drawContours(output, [puzzle_contour], -1, (0, 255, 0), 2)\n",
    "\t\tcv.imshow(\"Puzzle Outline\", output)\n",
    "\t\tcv.waitKey(0)\n",
    "\n",
    "\t\tcv.imshow(\"Puzzle Transform\", puzzle)\n",
    "\t\tcv.waitKey(0)\n",
    "\n",
    "\t\tcv.imshow(\"Puzzle Warped\", warped)\n",
    "\t\tcv.waitKey(0)\n",
    "\treturn (puzzle, warped)"
   ]
  },
  {
   "cell_type": "code",
   "execution_count": 21,
   "metadata": {},
   "outputs": [],
   "source": [
    "image = cv.imread('../input/picca.webp')"
   ]
  },
  {
   "cell_type": "code",
   "execution_count": 37,
   "metadata": {},
   "outputs": [
    {
     "data": {
      "text/plain": [
       "(array([[[118, 120, 147],\n",
       "         [116, 118, 146],\n",
       "         [122, 123, 152],\n",
       "         ...,\n",
       "         [ 99, 100, 123],\n",
       "         [119, 120, 142],\n",
       "         [155, 157, 177]],\n",
       " \n",
       "        [[ 90,  91, 121],\n",
       "         [ 85,  86, 117],\n",
       "         [ 83,  84, 116],\n",
       "         ...,\n",
       "         [ 97,  98, 121],\n",
       "         [118, 121, 142],\n",
       "         [155, 158, 178]],\n",
       " \n",
       "        [[ 68,  68, 100],\n",
       "         [ 62,  63,  95],\n",
       "         [ 63,  63,  96],\n",
       "         ...,\n",
       "         [ 94,  95, 118],\n",
       "         [117, 120, 141],\n",
       "         [154, 157, 177]],\n",
       " \n",
       "        ...,\n",
       " \n",
       "        [[124, 120, 145],\n",
       "         [ 73,  68,  95],\n",
       "         [ 64,  57,  86],\n",
       "         ...,\n",
       "         [ 94,  88, 115],\n",
       "         [ 98,  92, 119],\n",
       "         [105,  99, 126]],\n",
       " \n",
       "        [[129, 123, 148],\n",
       "         [ 74,  68,  94],\n",
       "         [ 57,  51,  78],\n",
       "         ...,\n",
       "         [118, 112, 136],\n",
       "         [122, 116, 140],\n",
       "         [127, 122, 144]],\n",
       " \n",
       "        [[152, 146, 170],\n",
       "         [105, 100, 123],\n",
       "         [ 94,  88, 112],\n",
       "         ...,\n",
       "         [191, 186, 207],\n",
       "         [197, 193, 212],\n",
       "         [203, 200, 216]]], dtype=uint8),\n",
       " array([[128, 126, 132, ..., 107, 127, 163],\n",
       "        [100,  95,  93, ..., 105, 127, 164],\n",
       "        [ 78,  72,  73, ..., 102, 126, 163],\n",
       "        ...,\n",
       "        [128,  77,  66, ...,  96, 100, 107],\n",
       "        [131,  76,  59, ..., 120, 124, 129],\n",
       "        [154, 107,  96, ..., 193, 199, 205]], dtype=uint8))"
      ]
     },
     "execution_count": 37,
     "metadata": {},
     "output_type": "execute_result"
    }
   ],
   "source": [
    "find_puzzle(image, debug=True)"
   ]
  }
 ],
 "metadata": {
  "kernelspec": {
   "display_name": "Python 3",
   "language": "python",
   "name": "python3"
  },
  "language_info": {
   "codemirror_mode": {
    "name": "ipython",
    "version": 3
   },
   "file_extension": ".py",
   "mimetype": "text/x-python",
   "name": "python",
   "nbconvert_exporter": "python",
   "pygments_lexer": "ipython3",
   "version": "3.10.6"
  },
  "orig_nbformat": 4
 },
 "nbformat": 4,
 "nbformat_minor": 2
}
