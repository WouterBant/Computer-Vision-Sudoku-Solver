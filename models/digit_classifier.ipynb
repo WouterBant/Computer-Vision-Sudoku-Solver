{
 "cells": [
  {
   "cell_type": "code",
   "execution_count": 1,
   "metadata": {},
   "outputs": [],
   "source": [
    "from keras.models import Sequential\n",
    "from keras.layers import *\n",
    "from tensorflow.keras.optimizers import Adam\n",
    "from tensorflow.keras.datasets import mnist\n",
    "from sklearn.preprocessing import LabelBinarizer\n",
    "from sklearn.metrics import classification_report\n",
    "import argparse"
   ]
  },
  {
   "cell_type": "code",
   "execution_count": 2,
   "metadata": {},
   "outputs": [],
   "source": [
    "LEARNING_RATE = 0.001\n",
    "EPOCHS = 10\n",
    "BATCH_SIZE = 128"
   ]
  },
  {
   "cell_type": "code",
   "execution_count": 3,
   "metadata": {},
   "outputs": [],
   "source": [
    "def create_model(width, height, depth, classes):\n",
    "    model = Sequential()\n",
    "    inputShape = (height, width, depth)\n",
    "    \n",
    "    model.add(Conv2D(32, kernel_size=(5, 5), activation='relu', padding=\"same\", input_shape=inputShape))\n",
    "    model.add(MaxPooling2D(pool_size=(2, 2)))\n",
    "    \n",
    "    model.add(Conv2D(32, kernel_size=(3, 3), activation='relu', padding=\"same\"))\n",
    "    model.add(MaxPooling2D(pool_size=(2, 2)))\n",
    "    \n",
    "    model.add(Flatten())\n",
    "    model.add(Dense(64))\n",
    "    model.add(Activation(\"relu\"))\n",
    "    model.add(Dropout(0.5))\n",
    "    \n",
    "    model.add(Dense(64))\n",
    "    model.add(Activation(\"relu\"))\n",
    "    model.add(Dropout(0.5))\n",
    "    \n",
    "    model.add(Dense(classes))\n",
    "    model.add(Activation(\"softmax\"))\n",
    "\n",
    "    adam = Adam(lr=LEARNING_RATE)\n",
    "    model.compile(loss='categorical_crossentropy', optimizer=adam, metrics=['accuracy'])\n",
    "    return model"
   ]
  },
  {
   "cell_type": "code",
   "execution_count": 4,
   "metadata": {},
   "outputs": [],
   "source": [
    "((X_train, y_train), (X_test, y_test)) = mnist.load_data()\n",
    "\n",
    "# add a channel (i.e., grayscale) dimension to the digits\n",
    "X_train = X_train.reshape((X_train.shape[0], 28, 28, 1))\n",
    "X_test = X_test.reshape((X_test.shape[0], 28, 28, 1))\n",
    "\n",
    "# scale data to the range of [0, 1]\n",
    "X_train = X_train.astype(\"float32\") / 255.0\n",
    "X_test = X_test.astype(\"float32\") / 255.0\n",
    "\n",
    "# convert the labels from integers to vectors\n",
    "lb = LabelBinarizer()\n",
    "y_train = lb.fit_transform(y_train)\n",
    "y_test = lb.transform(y_test)"
   ]
  },
  {
   "cell_type": "code",
   "execution_count": 5,
   "metadata": {},
   "outputs": [
    {
     "name": "stderr",
     "output_type": "stream",
     "text": [
      "WARNING:absl:`lr` is deprecated in Keras optimizer, please use `learning_rate` or use the legacy optimizer, e.g.,tf.keras.optimizers.legacy.Adam.\n"
     ]
    },
    {
     "name": "stdout",
     "output_type": "stream",
     "text": [
      "Epoch 1/10\n",
      "469/469 [==============================] - 22s 45ms/step - loss: 0.6850 - accuracy: 0.7749 - val_loss: 0.0952 - val_accuracy: 0.9716\n",
      "Epoch 2/10\n",
      "469/469 [==============================] - 20s 44ms/step - loss: 0.2481 - accuracy: 0.9270 - val_loss: 0.0590 - val_accuracy: 0.9819\n",
      "Epoch 3/10\n",
      "469/469 [==============================] - 22s 46ms/step - loss: 0.1886 - accuracy: 0.9458 - val_loss: 0.0523 - val_accuracy: 0.9858\n",
      "Epoch 4/10\n",
      "469/469 [==============================] - 21s 44ms/step - loss: 0.1548 - accuracy: 0.9550 - val_loss: 0.0427 - val_accuracy: 0.9881\n",
      "Epoch 5/10\n",
      "469/469 [==============================] - 20s 43ms/step - loss: 0.1383 - accuracy: 0.9610 - val_loss: 0.0405 - val_accuracy: 0.9885\n",
      "Epoch 6/10\n",
      "469/469 [==============================] - 21s 44ms/step - loss: 0.1207 - accuracy: 0.9646 - val_loss: 0.0368 - val_accuracy: 0.9893\n",
      "Epoch 7/10\n",
      "469/469 [==============================] - 21s 44ms/step - loss: 0.1098 - accuracy: 0.9681 - val_loss: 0.0345 - val_accuracy: 0.9893\n",
      "Epoch 8/10\n",
      "469/469 [==============================] - 20s 44ms/step - loss: 0.1064 - accuracy: 0.9690 - val_loss: 0.0337 - val_accuracy: 0.9899\n",
      "Epoch 9/10\n",
      "469/469 [==============================] - 21s 44ms/step - loss: 0.0975 - accuracy: 0.9707 - val_loss: 0.0312 - val_accuracy: 0.9908\n",
      "Epoch 10/10\n",
      "469/469 [==============================] - 22s 47ms/step - loss: 0.0903 - accuracy: 0.9740 - val_loss: 0.0393 - val_accuracy: 0.9879\n"
     ]
    },
    {
     "data": {
      "text/plain": [
       "<keras.callbacks.History at 0x266cb297b90>"
      ]
     },
     "execution_count": 5,
     "metadata": {},
     "output_type": "execute_result"
    }
   ],
   "source": [
    "model = create_model(width=28, height=28, depth=1, classes=10)\n",
    "model.fit(X_train, y_train, batch_size=BATCH_SIZE, epochs=EPOCHS, validation_data=(X_test, y_test), verbose=1)"
   ]
  },
  {
   "cell_type": "code",
   "execution_count": 6,
   "metadata": {},
   "outputs": [
    {
     "name": "stdout",
     "output_type": "stream",
     "text": [
      "313/313 [==============================] - 2s 6ms/step\n",
      "              precision    recall  f1-score   support\n",
      "\n",
      "           0       0.99      1.00      0.99       980\n",
      "           1       0.99      1.00      0.99      1135\n",
      "           2       0.97      1.00      0.99      1032\n",
      "           3       1.00      0.98      0.99      1010\n",
      "           4       0.99      1.00      0.99       982\n",
      "           5       0.97      0.99      0.98       892\n",
      "           6       0.99      0.99      0.99       958\n",
      "           7       0.99      0.98      0.99      1028\n",
      "           8       0.99      0.99      0.99       974\n",
      "           9       0.99      0.97      0.98      1009\n",
      "\n",
      "    accuracy                           0.99     10000\n",
      "   macro avg       0.99      0.99      0.99     10000\n",
      "weighted avg       0.99      0.99      0.99     10000\n",
      "\n"
     ]
    }
   ],
   "source": [
    "# evaluate the network\n",
    "predictions = model.predict(X_test)\n",
    "print(classification_report(y_test.argmax(axis=1), predictions.argmax(axis=1), target_names=[str(x) for x in lb.classes_]))"
   ]
  },
  {
   "cell_type": "code",
   "execution_count": 7,
   "metadata": {},
   "outputs": [],
   "source": [
    "from tensorflow.keras.models import save_model\n",
    "\n",
    "save_model(model, 'digit_classifier.h5')"
   ]
  },
  {
   "cell_type": "code",
   "execution_count": null,
   "metadata": {},
   "outputs": [],
   "source": []
  }
 ],
 "metadata": {
  "kernelspec": {
   "display_name": "Python 3",
   "language": "python",
   "name": "python3"
  },
  "language_info": {
   "codemirror_mode": {
    "name": "ipython",
    "version": 3
   },
   "file_extension": ".py",
   "mimetype": "text/x-python",
   "name": "python",
   "nbconvert_exporter": "python",
   "pygments_lexer": "ipython3",
   "version": "3.11.4"
  },
  "orig_nbformat": 4
 },
 "nbformat": 4,
 "nbformat_minor": 2
}
